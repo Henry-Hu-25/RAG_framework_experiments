{
 "cells": [
  {
   "cell_type": "markdown",
   "metadata": {},
   "source": [
    "## Experiemet with Google Gemini"
   ]
  },
  {
   "cell_type": "code",
   "execution_count": 27,
   "metadata": {},
   "outputs": [],
   "source": [
    "import os\n",
    "from google import genai\n",
    "from google.genai import types\n",
    "from IPython.display import display, Image, Markdown\n",
    "import PIL.Image\n",
    "import requests\n",
    "from io import BytesIO\n",
    "from pdf2image import convert_from_path\n",
    "from dotenv import load_dotenv\n",
    "from IPython.display import Markdown"
   ]
  },
  {
   "cell_type": "code",
   "execution_count": 2,
   "metadata": {},
   "outputs": [
    {
     "data": {
      "text/plain": [
       "True"
      ]
     },
     "execution_count": 2,
     "metadata": {},
     "output_type": "execute_result"
    }
   ],
   "source": [
    "load_dotenv()"
   ]
  },
  {
   "cell_type": "code",
   "execution_count": 18,
   "metadata": {},
   "outputs": [],
   "source": [
    "client = genai.Client(api_key=os.environ[\"GEMINI_API_KEY\"])"
   ]
  },
  {
   "cell_type": "code",
   "execution_count": 19,
   "metadata": {},
   "outputs": [],
   "source": [
    "# Function to load a PDF file and convert it to an image for Gemini\n",
    "def load_pdf_for_gemini(pdf_path):\n",
    "    \"\"\"\n",
    "    Load a PDF file from local path and prepare it for Gemini Vision model.\n",
    "    \n",
    "    Args:\n",
    "        pdf_path (str): Path to the local PDF file\n",
    "        \n",
    "    Returns:\n",
    "        PIL.Image: The first page of the PDF as an image\n",
    "    \"\"\"\n",
    "    try:    \n",
    "        # Convert the first page of the PDF to an image\n",
    "        # Convert all pages of the PDF to images\n",
    "        images = convert_from_path(pdf_path)\n",
    "        \n",
    "        if images:\n",
    "            return images\n",
    "        else:\n",
    "            print(\"No images extracted from the PDF.\")\n",
    "            return None\n",
    "    except Exception as e:\n",
    "        print(f\"Error loading PDF: {e}\")\n",
    "        return None"
   ]
  },
  {
   "cell_type": "code",
   "execution_count": 20,
   "metadata": {},
   "outputs": [
    {
     "data": {
      "text/plain": [
       "['empty_graph.pdf',\n",
       " 'screenshot_text_and_image.pdf',\n",
       " 'complex_graph.pdf',\n",
       " 'syllabus.pdf',\n",
       " 'table.pdf']"
      ]
     },
     "execution_count": 20,
     "metadata": {},
     "output_type": "execute_result"
    }
   ],
   "source": [
    "pdf_dir = \"pdf_collection\"\n",
    "os.listdir(pdf_dir)"
   ]
  },
  {
   "cell_type": "code",
   "execution_count": 25,
   "metadata": {},
   "outputs": [
    {
     "name": "stdout",
     "output_type": "stream",
     "text": [
      "Processing PDF file: empty_graph.pdf\n",
      "Number of images extracted: 1\n",
      "Processing PDF file: screenshot_text_and_image.pdf\n",
      "Number of images extracted: 1\n",
      "Processing PDF file: complex_graph.pdf\n",
      "Number of images extracted: 1\n",
      "Processing PDF file: syllabus.pdf\n",
      "Number of images extracted: 9\n",
      "Processing PDF file: table.pdf\n",
      "Number of images extracted: 1\n"
     ]
    }
   ],
   "source": [
    "files = []\n",
    "for pdf_file in os.listdir(pdf_dir):\n",
    "    print(\"Processing PDF file:\", pdf_file)\n",
    "    images = load_pdf_for_gemini(os.path.join(pdf_dir, pdf_file))\n",
    "    if images:\n",
    "        print(\"Number of images extracted:\", len(images))\n",
    "    else:\n",
    "        print(\"No images extracted from the PDF.\")\n",
    "    files.append(images)"
   ]
  },
  {
   "cell_type": "markdown",
   "metadata": {},
   "source": [
    "## **Gemini-2.5-pro-exp-03-25**"
   ]
  },
  {
   "cell_type": "markdown",
   "metadata": {},
   "source": [
    "## Experiment 1: Empty_Graph"
   ]
  },
  {
   "cell_type": "code",
   "execution_count": 28,
   "metadata": {},
   "outputs": [
    {
     "data": {
      "text/markdown": [
       "Okay, let's break down this graph:\n",
       "\n",
       "1.  **Type of Graph:** This is a **pie chart**. Pie charts are used to show proportions or percentages of a whole. The entire circle represents 100%.\n",
       "\n",
       "2.  **Segments:** The chart is divided into **three segments** (or slices).\n",
       "\n",
       "3.  **Colors:** The segments are colored **blue**, **red** (or reddish-orange), and **yellow** (or golden yellow).\n",
       "\n",
       "4.  **Proportions (Visual Estimation):**\n",
       "    *   The **blue** segment is the largest, appearing to represent slightly more than half of the total (perhaps around 55-60%).\n",
       "    *   The **yellow** segment is the second largest, looking like roughly a quarter of the total (perhaps around 25-30%).\n",
       "    *   The **red** segment is the smallest, making up the remainder (perhaps around 15-20%).\n",
       "\n",
       "5.  **Missing Information:** Crucially, the chart lacks:\n",
       "    *   **Labels:** We don't know what each colored segment represents (e.g., categories, groups, items).\n",
       "    *   **Values/Percentages:** There are no exact numbers or percentages shown for each slice.\n",
       "    *   **Title:** We don't know the overall topic or context of the data being represented.\n",
       "\n",
       "**In summary:** This is a simple pie chart illustrating how a whole is divided into three distinct parts. The blue part constitutes the majority, followed by the yellow part, and then the smallest red part. However, without labels or specific values, we cannot determine what data is being shown or the precise proportions."
      ],
      "text/plain": [
       "<IPython.core.display.Markdown object>"
      ]
     },
     "metadata": {},
     "output_type": "display_data"
    }
   ],
   "source": [
    "response = client.models.generate_content(\n",
    "    model=\"gemini-2.5-pro-exp-03-25\",\n",
    "    contents=[\"tell me about this graph?\", files[0]])\n",
    "from IPython.display import Markdown\n",
    "display(Markdown(response.text))"
   ]
  },
  {
   "cell_type": "markdown",
   "metadata": {},
   "source": [
    "## Experiment 2: Screenshot_Text_and_Image"
   ]
  },
  {
   "cell_type": "code",
   "execution_count": 29,
   "metadata": {},
   "outputs": [
    {
     "data": {
      "text/markdown": [
       "This image is a **promotional graphic or advertisement banner**.\n",
       "\n",
       "Here's a breakdown of its content:\n",
       "\n",
       "1.  **Headline:** \"Sample our Education Journals\" - Clearly states the subject matter being promoted.\n",
       "2.  **Call to Action:** \">> Sign in here to start your access to the latest two volumes for 14 days\".\n",
       "    *   \"Sign in here\" is highlighted (likely a hyperlink in a digital context).\n",
       "    *   It specifies the benefit: access to the \"latest two volumes\".\n",
       "    *   It details the duration of the offer: \"for 14 days\".\n",
       "3.  **Visual Elements:**\n",
       "    *   A solid blue background.\n",
       "    *   White text for readability.\n",
       "    *   A white icon in the top right corner, which appears to be a stylized oil lamp or \"lamp of knowledge,\" commonly associated with education and learning.\n",
       "\n",
       "In summary, it's an **advertisement offering a 14-day free trial access to recent education journals**, requiring users to sign in to activate the trial."
      ],
      "text/plain": [
       "<IPython.core.display.Markdown object>"
      ]
     },
     "metadata": {},
     "output_type": "display_data"
    }
   ],
   "source": [
    "response = client.models.generate_content(\n",
    "    model=\"gemini-2.5-pro-exp-03-25\",\n",
    "    contents=[\"Describe this content?\", files[1]])\n",
    "from IPython.display import Markdown\n",
    "display(Markdown(response.text))"
   ]
  },
  {
   "cell_type": "markdown",
   "metadata": {},
   "source": [
    "## Experiment 3: Complex_Graph"
   ]
  },
  {
   "cell_type": "code",
   "execution_count": 31,
   "metadata": {},
   "outputs": [
    {
     "data": {
      "text/markdown": [
       "Based on the image and its caption, **Figure 2 shows the architecture of the Pixtral Vision Encoder**.\n",
       "\n",
       "Specifically, it illustrates the following components and processes:\n",
       "\n",
       "1.  **Image Patches:** The input images are divided into patches.\n",
       "2.  **RoPE-2D:** Rotary Position Embeddings (2D) are used to encode the position of these patches, facilitating variable image sizes.\n",
       "3.  **Block-diagonal attention mask:** This mask is used to enable sequence packing, allowing efficient batching of images with different sizes/aspect ratios by preventing attention leakage between different images in the batch.\n",
       "4.  **Pixtral-VIT:** The core Vision Transformer model that processes the image patches and positional information. It's noted as a Bidirectional Transformer.\n",
       "5.  **Vision-Language Projector:** A component (likely involving an MLP) that projects the visual features into a space compatible with a language model.\n",
       "6.  **Output Embeddings:** The final output representation of the image.\n",
       "7.  **Token Handling:** It shows the addition of `[IMG_BREAK]` and `[IMG_END]` tokens, likely used for managing sequences of images or distinguishing between them.\n",
       "\n",
       "The caption emphasizes that this encoder is designed to natively support variable image sizes and aspect ratios, using block-diagonal attention masks for sequence packing and RoPE-2D for flexible positional encoding."
      ],
      "text/plain": [
       "<IPython.core.display.Markdown object>"
      ]
     },
     "metadata": {},
     "output_type": "display_data"
    }
   ],
   "source": [
    "response = client.models.generate_content(\n",
    "    model=\"gemini-2.5-pro-exp-03-25\",\n",
    "    contents=[\"What's inside Figure 2?\", files[2]])\n",
    "from IPython.display import Markdown\n",
    "display(Markdown(response.text))"
   ]
  },
  {
   "cell_type": "markdown",
   "metadata": {},
   "source": [
    "## Experiment 4: Syllabus"
   ]
  },
  {
   "cell_type": "code",
   "execution_count": 32,
   "metadata": {},
   "outputs": [
    {
     "data": {
      "text/markdown": [
       "According to the syllabus provided (specifically on page 2 under \"Weekly Structure\"), **Weeks 2-4** cover **SQL Language**.\n",
       "\n",
       "Page 3 further breaks down the SQL Language topic into:\n",
       "*   Introduction to SQL\n",
       "*   Intermediate SQL\n",
       "*   Advanced SQL\n",
       "\n",
       "Therefore, Week 2 will begin the study of SQL Language, likely focusing on the **Introduction to SQL** and possibly moving into **Intermediate SQL**."
      ],
      "text/plain": [
       "<IPython.core.display.Markdown object>"
      ]
     },
     "metadata": {},
     "output_type": "display_data"
    }
   ],
   "source": [
    "response = client.models.generate_content(\n",
    "    model=\"gemini-2.5-pro-exp-03-25\",\n",
    "    contents=[\"What's covered in week 2?\", files[3]])\n",
    "from IPython.display import Markdown\n",
    "display(Markdown(response.text))"
   ]
  },
  {
   "cell_type": "markdown",
   "metadata": {},
   "source": [
    "## Experiment 5: Table"
   ]
  },
  {
   "cell_type": "code",
   "execution_count": 33,
   "metadata": {},
   "outputs": [
    {
     "data": {
      "text/markdown": [
       "Okay, here is the table extracted from the image:\n",
       "\n",
       "|                              | Percentage % | Count |\n",
       "| :--------------------------- | :----------- | :---- |\n",
       "| **Gender**                   |              |       |\n",
       "| Female                       | 49.0%        | 540   |\n",
       "| Male                         | 51.0%        | 561   |\n",
       "| Early Childhood              | 3.3%         | 36    |\n",
       "| **What grades do you teach** |              |       |\n",
       "| **in school?**               |              |       |\n",
       "| Elementary School            | 21.0%        | 231   |\n",
       "| High School                  | 29.4%        | 324   |\n",
       "| Primary School               | 46.3%        | 510   |\n",
       "| Bachelor                     | 83.1%        | 915   |\n",
       "| **Educational Levels**       |              |       |\n",
       "| Master                       | 12.0%        | 132   |\n",
       "| PhD                          | 2.7%         | 30    |\n",
       "| Diploma                      | 2.2%         | 24    |\n",
       "| **Teaching Experience**      |              |       |\n",
       "| 0–5                          | 24.3%        | 267   |\n",
       "| 11–15                        | 36.8%        | 405   |\n",
       "| 6–10                         | 37.6%        | 414   |\n",
       "| +16                          | 1.4%         | 15    |"
      ],
      "text/plain": [
       "<IPython.core.display.Markdown object>"
      ]
     },
     "metadata": {},
     "output_type": "display_data"
    }
   ],
   "source": [
    "response = client.models.generate_content(\n",
    "    model=\"gemini-2.5-pro-exp-03-25\",\n",
    "    contents=[\"Extract the table from this image and present it in a table format\", files[4]])\n",
    "from IPython.display import Markdown\n",
    "display(Markdown(response.text))"
   ]
  },
  {
   "cell_type": "markdown",
   "metadata": {},
   "source": [
    "## **gemini-2.0-flash**"
   ]
  },
  {
   "cell_type": "markdown",
   "metadata": {},
   "source": [
    "## Experiment 1: Empty_Graph"
   ]
  },
  {
   "cell_type": "code",
   "execution_count": 34,
   "metadata": {},
   "outputs": [
    {
     "data": {
      "text/markdown": [
       "Here's what I can tell you about the graph based on the image:\n",
       "\n",
       "*   **Type:** It's a pie chart.\n",
       "*   **Colors:** It has three segments, colored blue, red, and yellow.\n",
       "*   **Proportions:** The blue segment is the largest, likely representing close to half of the total. The red and yellow segments appear smaller and roughly similar in size to each other. Without specific data labels, I can't give exact percentages.\n",
       "*   **Purpose:** Pie charts are used to show the relative proportions of different categories that make up a whole. Therefore, this chart is probably showing the distribution of something across three categories represented by the three colors."
      ],
      "text/plain": [
       "<IPython.core.display.Markdown object>"
      ]
     },
     "metadata": {},
     "output_type": "display_data"
    }
   ],
   "source": [
    "response = client.models.generate_content(\n",
    "    model=\"gemini-2.0-flash\",\n",
    "    contents=[\"tell me about this graph?\", files[0]])\n",
    "from IPython.display import Markdown\n",
    "display(Markdown(response.text))"
   ]
  },
  {
   "cell_type": "markdown",
   "metadata": {},
   "source": [
    "## Experiment 2: Screenshot_Text_and_Image"
   ]
  },
  {
   "cell_type": "code",
   "execution_count": 35,
   "metadata": {},
   "outputs": [
    {
     "data": {
      "text/markdown": [
       "The image is an advertisement on a blue background. The text on the image reads \"Sample our Education Journals.\" Below that, it says \">> Sign in here to start your access to the latest two volumes for 14 days\". There is also a small icon of an oil lamp on the top right of the image."
      ],
      "text/plain": [
       "<IPython.core.display.Markdown object>"
      ]
     },
     "metadata": {},
     "output_type": "display_data"
    }
   ],
   "source": [
    "response = client.models.generate_content(\n",
    "    model=\"gemini-2.0-flash\",\n",
    "    contents=[\"Describe this content?\", files[1]])\n",
    "from IPython.display import Markdown\n",
    "display(Markdown(response.text))"
   ]
  },
  {
   "cell_type": "markdown",
   "metadata": {},
   "source": [
    "## Experiment 3: Complex_Graph"
   ]
  },
  {
   "cell_type": "code",
   "execution_count": 36,
   "metadata": {},
   "outputs": [
    {
     "data": {
      "text/markdown": [
       "Figure 2 illustrates the Pixtral Vision Encoder. It shows the flow of information through the encoder, starting with Image Patches, then RoPE-2D (position encodings), a Block-diagonal attention mask, a Bidirectional Transformer, Pixtral-ViT, a Vision-Language Projector, an MLP, and finally, Output Embeddings. The figure also shows that \"Add [IMG_BREAK] and [IMG_END] tokens\" is performed after the Vision-Language Projector.\n"
      ],
      "text/plain": [
       "<IPython.core.display.Markdown object>"
      ]
     },
     "metadata": {},
     "output_type": "display_data"
    }
   ],
   "source": [
    "response = client.models.generate_content(\n",
    "    model=\"gemini-2.0-flash\",\n",
    "    contents=[\"What's inside Figure 2?\", files[2]])\n",
    "from IPython.display import Markdown\n",
    "display(Markdown(response.text))"
   ]
  },
  {
   "cell_type": "markdown",
   "metadata": {},
   "source": [
    "## Experiment 4: Syllabus"
   ]
  },
  {
   "cell_type": "code",
   "execution_count": 37,
   "metadata": {},
   "outputs": [
    {
     "data": {
      "text/markdown": [
       "Weeks 2-4 covers SQL language, including:\n",
       "\n",
       "*   Introduction to SQL\n",
       "*   Intermediate SQL\n",
       "*   Advanced SQL"
      ],
      "text/plain": [
       "<IPython.core.display.Markdown object>"
      ]
     },
     "metadata": {},
     "output_type": "display_data"
    }
   ],
   "source": [
    "response = client.models.generate_content(\n",
    "    model=\"gemini-2.0-flash\",\n",
    "    contents=[\"What's covered in week 2?\", files[3]])\n",
    "from IPython.display import Markdown\n",
    "display(Markdown(response.text))"
   ]
  },
  {
   "cell_type": "markdown",
   "metadata": {},
   "source": [
    "## Experiment 5: Table"
   ]
  },
  {
   "cell_type": "code",
   "execution_count": 39,
   "metadata": {},
   "outputs": [
    {
     "data": {
      "text/markdown": [
       "Here is the table extracted from the image:\n",
       "\n",
       "|                       | Percentage % | Count |\n",
       "| :-------------------- | :------------ | :---- |\n",
       "| **Gender**            |               |       |\n",
       "| Female                | 49.0%         | 540   |\n",
       "| Male                  | 51.0%         | 561   |\n",
       "| Early Childhood       | 3.3%          | 36    |\n",
       "| **What grades do you teach in school?** |               |       |\n",
       "| Elementary School     | 21.0%         | 231   |\n",
       "| High School           | 29.4%         | 324   |\n",
       "| Primary School        | 46.3%         | 510   |\n",
       "| Bachelor              | 83.1%         | 915   |\n",
       "| **Educational Levels** |               |       |\n",
       "| Master                | 12.0%         | 132   |\n",
       "| PhD                   | 2.7%          | 30    |\n",
       "| Diploma               | 2.2%          | 24    |\n",
       "| **Teaching Experience** |               |       |\n",
       "| 0-5                   | 24.3%         | 267   |\n",
       "| 11-15                 | 36.8%         | 405   |\n",
       "| 6-10                  | 37.6%         | 414   |\n",
       "| +16                   | 1.4%          | 15    |"
      ],
      "text/plain": [
       "<IPython.core.display.Markdown object>"
      ]
     },
     "metadata": {},
     "output_type": "display_data"
    }
   ],
   "source": [
    "response = client.models.generate_content(\n",
    "    model=\"gemini-2.0-flash\",\n",
    "    contents=[\"Extract the table from this image and present it in a table format\", files[4]])\n",
    "from IPython.display import Markdown\n",
    "display(Markdown(response.text))"
   ]
  },
  {
   "cell_type": "code",
   "execution_count": null,
   "metadata": {},
   "outputs": [],
   "source": []
  }
 ],
 "metadata": {
  "kernelspec": {
   "display_name": "base",
   "language": "python",
   "name": "python3"
  },
  "language_info": {
   "codemirror_mode": {
    "name": "ipython",
    "version": 3
   },
   "file_extension": ".py",
   "mimetype": "text/x-python",
   "name": "python",
   "nbconvert_exporter": "python",
   "pygments_lexer": "ipython3",
   "version": "3.10.13"
  }
 },
 "nbformat": 4,
 "nbformat_minor": 2
}

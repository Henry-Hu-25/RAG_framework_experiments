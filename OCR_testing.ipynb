{
 "cells": [
  {
   "cell_type": "code",
   "execution_count": 48,
   "metadata": {},
   "outputs": [],
   "source": [
    "# !pip install mistralai"
   ]
  },
  {
   "cell_type": "markdown",
   "metadata": {},
   "source": [
    "## Mistral OCR API"
   ]
  },
  {
   "cell_type": "code",
   "execution_count": 49,
   "metadata": {},
   "outputs": [],
   "source": [
    "from mistralai import Mistral\n",
    "from mistralai.models import OCRResponse\n",
    "from IPython.display import Markdown, display\n",
    "from dotenv import load_dotenv\n",
    "import json\n",
    "import os"
   ]
  },
  {
   "cell_type": "code",
   "execution_count": 50,
   "metadata": {},
   "outputs": [],
   "source": [
    "_ = load_dotenv()"
   ]
  },
  {
   "cell_type": "code",
   "execution_count": 51,
   "metadata": {},
   "outputs": [],
   "source": [
    "api_key = os.environ.get(\"MISTRAL_API_KEY\")\n",
    "client = Mistral(api_key=api_key)"
   ]
  },
  {
   "cell_type": "code",
   "execution_count": 52,
   "metadata": {},
   "outputs": [],
   "source": [
    "# Get all PDF file paths from the pdf_collection directory\n",
    "pdf_dir = \"pdf_collection\"\n",
    "doc_list = [os.path.join(pdf_dir, file) for file in os.listdir(pdf_dir) if file.lower().endswith('.pdf')]"
   ]
  },
  {
   "cell_type": "code",
   "execution_count": 53,
   "metadata": {},
   "outputs": [],
   "source": [
    "\n",
    "def ocr_response(file_path: str) -> OCRResponse:\n",
    "    '''\n",
    "    This function takes a file path and returns the OCR response.\n",
    "    '''\n",
    "    uploaded_pdf = client.files.upload(\n",
    "        file={\n",
    "            \"file_name\": os.path.basename(file_path),\n",
    "            \"content\": open(file_path, \"rb\"),\n",
    "        },\n",
    "    purpose=\"ocr\"\n",
    "    )  \n",
    "\n",
    "    # Getting the signed URL for the uploaded PDF\n",
    "    signed_url = client.files.get_signed_url(file_id=uploaded_pdf.id)\n",
    "\n",
    "    # To extract text from the uploaded PDF using OCR\n",
    "    ocr_response = client.ocr.process(\n",
    "    model=\"mistral-ocr-latest\",\n",
    "    document={\n",
    "        \"type\": \"document_url\",\n",
    "        \"document_url\": signed_url.url,\n",
    "      },\n",
    "      include_image_base64=True\n",
    "    )\n",
    "\n",
    "    # response_dict = json.loads(ocr_response.model_dump_json())\n",
    "    return ocr_response"
   ]
  },
  {
   "cell_type": "code",
   "execution_count": 54,
   "metadata": {},
   "outputs": [],
   "source": [
    "def replace_images_in_markdown(markdown_str: str, images_dict: dict) -> str:\n",
    "    \"\"\"\n",
    "    Replace image placeholders in markdown with base64-encoded images.\n",
    "\n",
    "    Args:\n",
    "        markdown_str: Markdown text containing image placeholders\n",
    "        images_dict: Dictionary mapping image IDs to base64 strings\n",
    "\n",
    "    Returns:\n",
    "        Markdown text with images replaced by base64 data\n",
    "    \"\"\"\n",
    "    for img_name, base64_str in images_dict.items():\n",
    "        markdown_str = markdown_str.replace(\n",
    "            f\"![{img_name}]({img_name})\", f\"![{img_name}]({base64_str})\"\n",
    "        )\n",
    "    return markdown_str\n",
    "\n",
    "def get_combined_markdown(ocr_response: dict) -> str:\n",
    "    \"\"\"\n",
    "    Combine OCR text and images into a single markdown document.\n",
    "\n",
    "    Args:\n",
    "        ocr_response: Response from OCR processing containing text and images\n",
    "\n",
    "    Returns:\n",
    "        Combined markdown string with embedded images\n",
    "    \"\"\"\n",
    "    markdowns: list[str] = []\n",
    "    # Extract images from page\n",
    "    for page in ocr_response.pages:\n",
    "        image_data = {}\n",
    "        for img in page.images:\n",
    "            image_data[img.id] = img.image_base64\n",
    "        # Replace image placeholders with actual images\n",
    "        markdowns.append(replace_images_in_markdown(page.markdown, image_data))\n",
    "\n",
    "    return \"\\n\\n\".join(markdowns)"
   ]
  },
  {
   "cell_type": "code",
   "execution_count": 55,
   "metadata": {},
   "outputs": [
    {
     "data": {
      "text/plain": [
       "['pdf_collection/empty_graph.pdf',\n",
       " 'pdf_collection/screenshot_text_and_image.pdf',\n",
       " 'pdf_collection/complex_graph.pdf',\n",
       " 'pdf_collection/syllabus.pdf',\n",
       " 'pdf_collection/table.pdf']"
      ]
     },
     "execution_count": 55,
     "metadata": {},
     "output_type": "execute_result"
    }
   ],
   "source": [
    "doc_list"
   ]
  },
  {
   "cell_type": "markdown",
   "metadata": {},
   "source": [
    "## Empty Graph"
   ]
  },
  {
   "cell_type": "code",
   "execution_count": 41,
   "metadata": {},
   "outputs": [
    {
     "data": {
      "text/markdown": [
       "\n"
      ],
      "text/plain": [
       "<IPython.core.display.Markdown object>"
      ]
     },
     "metadata": {},
     "output_type": "display_data"
    }
   ],
   "source": [
    "response = ocr_response(doc_list[0])\n",
    "display(Markdown(get_combined_markdown(response)))"
   ]
  },
  {
   "cell_type": "markdown",
   "metadata": {},
   "source": [
    "## Screenshot (text + image)"
   ]
  },
  {
   "cell_type": "code",
   "execution_count": 43,
   "metadata": {},
   "outputs": [
    {
     "data": {
      "text/markdown": [
       "# Sample our Education Journals \n",
       "\n",
       ">> Sign in here to start your access to the latest two volumes for 14 days"
      ],
      "text/plain": [
       "<IPython.core.display.Markdown object>"
      ]
     },
     "metadata": {},
     "output_type": "display_data"
    }
   ],
   "source": [
    "response = ocr_response(doc_list[1])\n",
    "display(Markdown(get_combined_markdown(response)))"
   ]
  },
  {
   "cell_type": "markdown",
   "metadata": {},
   "source": [
    "## Complex Graph"
   ]
  },
  {
   "cell_type": "code",
   "execution_count": 44,
   "metadata": {},
   "outputs": [
    {
     "data": {
      "text/markdown": [
       "![img-0.jpeg](data:image/jpeg;base64,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)\n",
       "\n",
       "Figure 2: Pixtral Vision Encoder. Pixtral uses a new vision encoder, which is trained from scratch to natively support variable image sizes and aspect ratios. Block-diagonal attention masks enable sequence packing for batching, while RoPE-2D encodings facilitate variable image sizes. Note that the attention mask and position encodings are fed to the vision transformer as additional input, and utilized only in the self-attention layers.\n",
       "\n",
       "# 2 Architectural details \n",
       "\n",
       "Pixtral 12B is based on the transformer architecture [22], and consists of a multimodal decoder to perform highlevel reasoning, and a vision encoder to allow the model to ingest images. The main parameters of the model are summarized in Table 1.\n",
       "\n",
       "### 2.1 Multimodal Decoder\n",
       "\n",
       "Pixtral 12B is built on top of Mistral Nemo 12B [15], a 12-billion parameter decoder-only language model that achieves strong performance across a range of knowledge and reasoning tasks.\n",
       "\n",
       "| Parameters | Decoder | Encoder |\n",
       "| :-- | --: | --: |\n",
       "| dim | 5120 | 1024 |\n",
       "| n_layers | 40 | 24 |\n",
       "| head_dim | 128 | 64 |\n",
       "| hidden_dim | 14336 | 4096 |\n",
       "| n_heads | 32 | 16 |\n",
       "| n_kv_heads | 8 | 16 |\n",
       "| context_len | 131072 | 4096 |\n",
       "| vocab_size | 131072 | - |\n",
       "| patch_size | - | 16 |\n",
       "\n",
       "Table 1: Decoder and encoder parameters.\n",
       "\n",
       "### 2.2 Vision Encoder\n",
       "\n",
       "In order for Pixtral 12B to ingest images, we train a new vision encoder from scratch, named PixtralViT. Here, our goal is to instantiate a simple architecture which is capable of processing images across a wide range of resolutions and aspect ratios. To do this, we build a 400 million parameter vision transformer [5] (see Table 1) and make four key changes over the standard architectures [17]:\n",
       "\n",
       "Break tokens: In order to assist the model in distinguishing between images with the same number of patches (same area) but different aspect ratios, we include [IMAGE BREAK] tokens between image rows [2]. We further include an [IMAGE END] token at the end of an image sequence.\n",
       "Gating in FFN: Instead of standard feedforward layer in the attention block, we use gating in the hidden layer [19].\n",
       "Sequence packing: In order to efficiently process images within a single batch, we flatten the images along the sequence dimension and concatenate them [3]. We construct a block-diagonal mask to ensure no attention leakage between patches from different images.\n",
       "RoPE-2D: We replace traditional learned and absolute position embeddings for image patches with relative, rotary position encodings [11, 20] in the self-attention layers. While learned position embeddings must be interpolated to deal with new image sizes (often at the cost of performance), relative position encodings lend themselves naturally to variable image sizes."
      ],
      "text/plain": [
       "<IPython.core.display.Markdown object>"
      ]
     },
     "metadata": {},
     "output_type": "display_data"
    }
   ],
   "source": [
    "response = ocr_response(doc_list[2])\n",
    "display(Markdown(get_combined_markdown(response)))"
   ]
  },
  {
   "cell_type": "markdown",
   "metadata": {},
   "source": [
    "## Syllabus"
   ]
  },
  {
   "cell_type": "code",
   "execution_count": 45,
   "metadata": {},
   "outputs": [
    {
     "data": {
      "text/markdown": [
       "The information contained on this page is designed to give students a representative example of material covered in the course. Any information related to course assignments, dates, or course materials is illustrative only.\n",
       "\n",
       "# (2) NYU <br> TANDON SCHOOL OF ENGINEERING \n",
       "\n",
       "## Course Syllabus\n",
       "\n",
       "Computer Science and Engineering\n",
       "Principles of Database Systems\n",
       "\n",
       "## Course Information\n",
       "\n",
       "## Course Prerequisites\n",
       "\n",
       "Graduate student status.\n",
       "\n",
       "## Course Description\n",
       "\n",
       "This course broadly introduces database systems, including the relational data model, query languages, database design, index and file structures, query processing and optimization, concurrency and recovery, transaction management and database design. Students acquire hands-on experience in working with database systems and in building web-accessible database applications.\n",
       "\n",
       "## Course Objectives\n",
       "\n",
       "This course will provide students with the opportunity to:\n",
       "\n",
       "- Apply queries in relational algebra to retrieve data.\n",
       "- Apply queries in SQL to create, read, update and delete data in a database.\n",
       "- Apply the concepts of entity integrity constraint and referential integrity constraint (including definition of the concept of a foreign key).\n",
       "- Describe the normal forms (1NF, 2NF, 3NF, BCNF, and 4NF) of a relation.\n",
       "- Apply normalization to a relation to create a set of BCNF relations and denormalize a relational schema.\n",
       "\n",
       "# NYU <br> TANDON SCHOOL OF ENGINEERING \n",
       "\n",
       "Course Syllabus - CS GY 6083 Principles of Database System\n",
       "\n",
       "- Describe functional dependency between two or more attributes that are a subset of a relation.\n",
       "- Understand multi-valued dependency and identify examples in relational schemas.\n",
       "- Sketch conceptual data models (including ER) to describe a database structure.\n",
       "- Apply SQL to create a relational database schema based on conceptual and relational models.\n",
       "- Apply stored procedures, functions, and triggers using a commercial relational DBMS.\n",
       "- Describe concurrency control and how it is affected by isolation levels in the database.\n",
       "- Analyze Current Research in Database Systems.\n",
       "\n",
       "\n",
       "## Course Structure\n",
       "\n",
       "This course is conducted entirely online, which means you do not have to be on campus to complete any portion of it. You will participate in the course using NYU Classes located at https://newclasses.nyu.edu Your final grade will be computed as a combination of the components shown below.\n",
       "\n",
       "- Quizzes: 30\\%\n",
       "- Labs: $40 \\%$\n",
       "- Project: $30 \\%$\n",
       "\n",
       "\n",
       "## Weekly Structure\n",
       "\n",
       "Week 1: Introduction to the Relational Model\n",
       "\n",
       "- Introduce class and overview of course topics.\n",
       "\n",
       "Weeks 2-4: SQL Language\n",
       "\n",
       "# NYU TANDON SCHOOL OF ENGINEERING \n",
       "\n",
       "Course Syllabus - CS GY 6083 Principles of Database System\n",
       "\n",
       "- Introduction to SQL\n",
       "- Intermediate SQL\n",
       "- Advanced SQL\n",
       "\n",
       "Week 5: Formal Relational Query Languages\n",
       "\n",
       "- Relational Algebra\n",
       "- Tuple Relational Calculus\n",
       "- Domain Relational Calculus\n",
       "\n",
       "Week 6: Database Design: The Entity-Relationship Approach\n",
       "\n",
       "- ER Design\n",
       "- Reduction to Relational Model\n",
       "\n",
       "Week 7: Relational Database Design\n",
       "\n",
       "- Functional Dependency\n",
       "- Multivalued Dependency\n",
       "- Normal Forms.\n",
       "\n",
       "Week 8: Application Design\n",
       "\n",
       "- Web Architectures\n",
       "- Application Security\n",
       "\n",
       "Week 9: Storage and File Structure\n",
       "\n",
       "- Physical Storage\n",
       "- Record Organization\n",
       "\n",
       "Week 10: Indexing and Hashing\n",
       "\n",
       "# NYU <br> TANDON SCHOOL OF ENGINEERING \n",
       "\n",
       "Course Syllabus - CS GY 6083 Principles of Database System\n",
       "\n",
       "- Ordered Indices\n",
       "- Hashed Indices\n",
       "- Bitmap Indices\n",
       "\n",
       "Weeks 11-12: Query Processing \\& Optimization\n",
       "\n",
       "- Query Processing\n",
       "- Query Optimization\n",
       "\n",
       "Week 13: Transactions \\& Concurrency Control\n",
       "\n",
       "- ACID Properties\n",
       "- Transaction Management\n",
       "\n",
       "Week 14: Recovery System \\& Database System Architectures\n",
       "\n",
       "- Locks\n",
       "- Deadlocks\n",
       "- Snapshot Isolation\n",
       "\n",
       "Week 15: Student Presentations\n",
       "\n",
       "- Presentations and reviews\n",
       "\n",
       "\n",
       "## Learning Time Rubric\n",
       "\n",
       "Please modify the below table to represent the breakdown of learning time in each week of your course.\n",
       "\n",
       "# NYU <br> TANDON SCHOOL OF ENGINEERING \n",
       "\n",
       "Course Syllabus - CS GY 6083 Principles of Database System\n",
       "\n",
       "| Learning <br> Time <br> Element | Asynchronous* / <br> Synchronous** | Time on <br> Task for <br> Students <br> (weekly) | Notes |\n",
       "| :--: | :--: | :--: | :-- |\n",
       "| Reading <br> Assignments <br> / Recorded <br> Lecture | Asynchronous | 2.5 hours | Video format. <br> Expect quizzes <br> throughout the <br> module or <br> weekly chapter <br> readings |\n",
       "| Weekly <br> Discussion <br> Board \\& Peer <br> Review | Asynchronous | 1.5 hours | Students are <br> expected to post <br> responses to <br> weekly topic <br> questions. See <br> Interaction <br> Policy. |\n",
       "| Assessment <br> (Labs and <br> Programming <br> assignments) | Asynchronous | 2 hours | Students submit <br> their assignment <br> by [the end of <br> the week] |\n",
       "| Reading <br> Assignment | Asynchronous | 2 hours | Reading <br> assigned <br> textbook <br> chapters and <br> journal articles. |\n",
       "| Live webinars | Synchronous | 2 hours | Group <br> discussion in <br> class, live, <br> overly weekly <br> chapter |\n",
       "\n",
       "# NYU <br> TANDON SCHOOL OF ENGINEERING \n",
       "\n",
       "Course Syllabus - CS GY 6083 Principles of Database System\n",
       "\n",
       "## Course Communication\n",
       "\n",
       "## Interaction Policy\n",
       "\n",
       "Please follow the interaction guidelines stated below for this course.\n",
       "\n",
       "- I will be holding online virtual classroom sessions every week. This virtual classroom will be held via NYU Classes on Thursdays from 8am to 9am.\n",
       "- The course will involve regular discussions via the Discussion Forums within NYU Classes and students are encouraged to participate.\n",
       "- If you have a technical or course content related question, please send me an email. If I think that your question can benefit the class, I might post it on the discussion forum.\n",
       "- If you have a question related to grading, please send an email to the TA and cc on the email thread. The TA will be responsible for examining your answers and providing a grade as per my guidelines.\n",
       "- If any other questions need to be answered that are not addressed via email or the live classroom, I can hold virtual office hours on an appointment basis.\n",
       "\n",
       "\n",
       "## Announcements\n",
       "\n",
       "Announcements will be posted on NYU Classes on a regular basis. You can locate all class announcements under the Announcements tab of our class. Be sure to check the class announcements regularly as they will contain important information about class assignments and other class matters.\n",
       "\n",
       "## Email\n",
       "\n",
       "You are encouraged to post your questions about the course in the Forums discussions on NYU Classes. This is an open forum in which you and your classmates are encouraged to answer each other's questions. But, if you need to contact me directly, please email me. All\n",
       "\n",
       "# NYU <br> TANDON SCHOOL OF ENGINEERING \n",
       "\n",
       "Course Syllabus - CS GY 6083 Principles of Database System\n",
       "homework, labs or programming assignments related questions must be researched first on own time, then posted on forums, then discussed with TAs during weekly reviews, and then can be forwarded to me. Typically, you can expect a response within 48 hours.\n",
       "\n",
       "## Readings\n",
       "\n",
       "Avi Silberschatz, Henry F. Korth,S. Sudarshan, Database System Concepts, Sixth Edition, McGraw Hill\n",
       "\n",
       "You can access NYU's central library here: http://library.nyu.edu/\n",
       "You can access NYU Tandon's Bern Dibner Library here:\n",
       "http://library.poly.edu/\n",
       "\n",
       "RECOMMENDED READINGS are online journal articles provided in each lecture You can access NYU's central library here: http://library.nyu.edu/\n",
       "\n",
       "You can access NYU Tandon's Bern Dibner Library here:\n",
       "http://library.poly.edu/\n",
       "\n",
       "## Assignments and Exams\n",
       "\n",
       "## Exams Administered and Proctored Online\n",
       "\n",
       "Exams in this course are administered through NYU Classes. You are required to arrange an online proctor for your exams via ProctorU. More information on ProctorU and scheduling proctoring sessions can be found on Tandon Online's website.\n",
       "\n",
       "# NYU <br> TANDON SCHOOL OF ENGINEERING \n",
       "\n",
       "Course Syllabus - CS GY 6083 Principles of Database System\n",
       "\n",
       "## Exams Administered On Paper and Proctored Remotely\n",
       "\n",
       "Exams in this course are administered via paper and pencil. If you are not able to attend an exam session on-campus, you are required to secure in-person proctoring arrangements near your location. Tandon Online's website.\n",
       "\n",
       "## University Policies\n",
       "\n",
       "## Moses Center Statement of Disability\n",
       "\n",
       "Academic accommodations are available for students with disabilities. Please contact the Moses Center for Students with Disabilities (212-998-4980 or mosescsd@nyu.edu) for further information. Students who are requesting academic accommodations are advised to reach out to the Moses Center as early as possible in the semester for assistance.\n",
       "\n",
       "## NYU Tandon School of Engineering Policies and Procedures on Academic Misconduct ${ }^{1}$\n",
       "\n",
       "A. Introduction: The School of Engineering encourages academic excellence in an environment that promotes honesty, integrity, and fairness, and students at the School of Engineering are expected to exhibit those qualities in their academic work. It is through the process of submitting their own work and receiving honest feedback on that work that students may progress academically. Any act of academic dishonesty is seen as an attack upon the School and will not be tolerated. Furthermore, those who breach the School's rules on academic integrity will be sanctioned under this Policy. Students are responsible for familiarizing themselves with the School's Policy on Academic Misconduct.\n",
       "B. Definition: Academic dishonesty may include misrepresentation, deception, dishonesty, or any act of falsification committed by a student to influence a grade or other academic evaluation. Academic dishonesty also includes intentionally damaging the academic work of others or assisting other students in acts of dishonesty. Common\n",
       "\n",
       "[^0]\n",
       "[^0]:    ${ }^{1}$ Excerpted from the Tandon School of Engineering Student Code of Conduct\n",
       "\n",
       "# NYU <br> TANDON SCHOOL OF ENGINEERING \n",
       "\n",
       "Course Syllabus - CS GY 6083 Principles of Database System\n",
       "examples of academically dishonest behavior include, but are not limited to, the following:\n",
       "a. Cheating: intentionally using or attempting to use unauthorized notes, books, electronic media, or electronic communications in an exam; talking with fellow students or looking at another person's work during an exam; submitting work prepared in advance for an in-class examination; having someone take an exam for you or taking an exam for someone else; violating other rules governing the administration of examinations.\n",
       "b. Fabrication: including but not limited to, falsifying experimental data and/or citations.\n",
       "c. Plagiarism: intentionally or knowingly representing the words or ideas of another as one's own in any academic exercise; failure to attribute direct quotations, paraphrases, or borrowed facts or information.\n",
       "d. Unauthorized collaboration: working together on work that was meant to be done individually.\n",
       "e. Duplicating work: presenting for grading the same work for more than one project or in more than one class, unless express and prior permission has been received from the course instructor(s) or research adviser involved.\n",
       "f. Forgery: altering any academic document, including, but not limited to, academic records, admissions materials, or medical excuses."
      ],
      "text/plain": [
       "<IPython.core.display.Markdown object>"
      ]
     },
     "metadata": {},
     "output_type": "display_data"
    }
   ],
   "source": [
    "response = ocr_response(doc_list[3])\n",
    "display(Markdown(get_combined_markdown(response)))"
   ]
  },
  {
   "cell_type": "markdown",
   "metadata": {},
   "source": [
    "## Table"
   ]
  },
  {
   "cell_type": "code",
   "execution_count": 47,
   "metadata": {},
   "outputs": [
    {
     "data": {
      "text/markdown": [
       "|   | Percentage % | Count  |\n",
       "| --- | --- | --- |\n",
       "|  Gender |  |   |\n",
       "|  Female | 49.0% | 540  |\n",
       "|  Male | 51.0% | 561  |\n",
       "|  Early Childhood | 3.3% | 36  |\n",
       "|  What grades do you teach in school? |  |   |\n",
       "|  Elementary School | 21.0% | 231  |\n",
       "|  High School | 29.4% | 324  |\n",
       "|  Primary School | 46.3% | 510  |\n",
       "|  Bachelor | 83.1% | 915  |\n",
       "|  Educational Levels |  |   |\n",
       "|  Master | 12.0% | 132  |\n",
       "|  PhD | 2.7% | 30  |\n",
       "|  Diploma | 2.2% | 24  |\n",
       "|  Teaching Experience |  |   |\n",
       "|  0–5 | 24.3% | 267  |\n",
       "|  11–15 | 36.8% | 405  |\n",
       "|  6–10 | 37.6% | 414  |\n",
       "|  +16 | 1.4% | 15  |"
      ],
      "text/plain": [
       "<IPython.core.display.Markdown object>"
      ]
     },
     "metadata": {},
     "output_type": "display_data"
    }
   ],
   "source": [
    "response = ocr_response(doc_list[4])\n",
    "display(Markdown(get_combined_markdown(response)))"
   ]
  },
  {
   "cell_type": "code",
   "execution_count": null,
   "metadata": {},
   "outputs": [],
   "source": []
  }
 ],
 "metadata": {
  "kernelspec": {
   "display_name": "base",
   "language": "python",
   "name": "python3"
  },
  "language_info": {
   "codemirror_mode": {
    "name": "ipython",
    "version": 3
   },
   "file_extension": ".py",
   "mimetype": "text/x-python",
   "name": "python",
   "nbconvert_exporter": "python",
   "pygments_lexer": "ipython3",
   "version": "3.10.13"
  }
 },
 "nbformat": 4,
 "nbformat_minor": 2
}

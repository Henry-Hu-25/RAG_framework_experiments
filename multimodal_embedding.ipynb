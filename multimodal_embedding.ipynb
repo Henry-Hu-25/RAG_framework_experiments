{
 "cells": [
  {
   "cell_type": "code",
   "execution_count": 1,
   "metadata": {},
   "outputs": [
    {
     "name": "stderr",
     "output_type": "stream",
     "text": [
      "/opt/homebrew/anaconda3/lib/python3.10/site-packages/pinecone/data/index.py:1: TqdmExperimentalWarning: Using `tqdm.autonotebook.tqdm` in notebook mode. Use `tqdm.tqdm` instead to force console mode (e.g. in jupyter console)\n",
      "  from tqdm.autonotebook import tqdm\n"
     ]
    }
   ],
   "source": [
    "import pinecone\n",
    "from pinecone import Pinecone, ServerlessSpec\n",
    "import os\n",
    "from dotenv import load_dotenv\n",
    "import base64"
   ]
  },
  {
   "cell_type": "markdown",
   "metadata": {},
   "source": [
    "## Creating a Pinecone Index"
   ]
  },
  {
   "cell_type": "code",
   "execution_count": 2,
   "metadata": {},
   "outputs": [
    {
     "data": {
      "text/plain": [
       "True"
      ]
     },
     "execution_count": 2,
     "metadata": {},
     "output_type": "execute_result"
    }
   ],
   "source": [
    "load_dotenv() "
   ]
  },
  {
   "cell_type": "code",
   "execution_count": 3,
   "metadata": {},
   "outputs": [
    {
     "data": {
      "text/plain": [
       "'24e23d1d-b502-4e85-a367-8f8b597fddfe'"
      ]
     },
     "execution_count": 3,
     "metadata": {},
     "output_type": "execute_result"
    }
   ],
   "source": [
    "os.getenv(\"PINECONE_API_KEY\")"
   ]
  },
  {
   "cell_type": "code",
   "execution_count": 4,
   "metadata": {},
   "outputs": [],
   "source": [
    "pc=Pinecone(api_key=os.getenv(\"PINECONE_API_KEY\"))\n",
    "index_name=os.getenv(\"INDEX_NAME\")\n",
    "index_list = [index.name for index in pc.list_indexes()]\n",
    "\n",
    "spec=ServerlessSpec(\n",
    "    cloud=\"aws\",\n",
    "    region=os.getenv(\"PINECONE_ENVIRONMENT\")\n",
    ")"
   ]
  },
  {
   "cell_type": "code",
   "execution_count": 5,
   "metadata": {},
   "outputs": [
    {
     "data": {
      "text/plain": [
       "'us-east-1'"
      ]
     },
     "execution_count": 5,
     "metadata": {},
     "output_type": "execute_result"
    }
   ],
   "source": [
    "region=os.getenv(\"PINECONE_ENVIRONMENT\")\n",
    "region"
   ]
  },
  {
   "cell_type": "code",
   "execution_count": null,
   "metadata": {},
   "outputs": [],
   "source": [
    "if index_name not in index_list:\n",
    "    pc.create_index(\n",
    "        name = index_name,\n",
    "        dimension = 1024,\n",
    "        metric = \"cosine\",\n",
    "        spec = spec\n",
    "    )\n",
    "else: \n",
    "    index = pc.Index(index_name)\n",
    "    dimension = index.describe_index_stats()[\"dimension\"]\n",
    "    if dimension != 1024:\n",
    "        pc.delete_index(index_name)\n",
    "        pc.create_index(\n",
    "            name = index_name,\n",
    "            dimension = 1024,\n",
    "            metric = \"cosine\",\n",
    "            spec = spec\n",
    "        )"
   ]
  },
  {
   "cell_type": "markdown",
   "metadata": {},
   "source": [
    "# PDF Information Extraction"
   ]
  },
  {
   "cell_type": "code",
   "execution_count": 9,
   "metadata": {},
   "outputs": [],
   "source": [
    "from mistralai import Mistral\n",
    "from mistralai.models import OCRResponse\n",
    "from IPython.display import Markdown, display"
   ]
  },
  {
   "cell_type": "code",
   "execution_count": 10,
   "metadata": {},
   "outputs": [],
   "source": [
    "api_key = os.environ.get(\"MISTRAL_API_KEY\")\n",
    "client = Mistral(api_key=api_key)"
   ]
  },
  {
   "cell_type": "code",
   "execution_count": 15,
   "metadata": {},
   "outputs": [],
   "source": [
    "\n",
    "def ocr_response(file_path: str) -> OCRResponse:\n",
    "    '''\n",
    "    This function takes a file path and returns the OCR response.\n",
    "    '''\n",
    "    uploaded_pdf = client.files.upload(\n",
    "        file={\n",
    "            \"file_name\": os.path.basename(file_path),\n",
    "            \"content\": open(file_path, \"rb\"),\n",
    "        },\n",
    "    purpose=\"ocr\"\n",
    "    )  \n",
    "\n",
    "    # Getting the signed URL for the uploaded PDF\n",
    "    signed_url = client.files.get_signed_url(file_id=uploaded_pdf.id)\n",
    "\n",
    "    # To extract text from the uploaded PDF using OCR\n",
    "    ocr_response = client.ocr.process(\n",
    "    model=\"mistral-ocr-latest\",\n",
    "    document={\n",
    "        \"type\": \"document_url\",\n",
    "        \"document_url\": signed_url.url,\n",
    "      },\n",
    "      include_image_base64=True\n",
    "    )\n",
    "\n",
    "    # response_dict = json.loads(ocr_response.model_dump_json())\n",
    "    return ocr_response"
   ]
  },
  {
   "cell_type": "code",
   "execution_count": 16,
   "metadata": {},
   "outputs": [],
   "source": [
    "def replace_images_in_markdown(markdown_str: str, images_dict: dict) -> str:\n",
    "    \"\"\"\n",
    "    Replace image placeholders in markdown with base64-encoded images.\n",
    "\n",
    "    Args:\n",
    "        markdown_str: Markdown text containing image placeholders\n",
    "        images_dict: Dictionary mapping image IDs to base64 strings\n",
    "\n",
    "    Returns:\n",
    "        Markdown text with images replaced by base64 data\n",
    "    \"\"\"\n",
    "    for img_name, base64_str in images_dict.items():\n",
    "        markdown_str = markdown_str.replace(\n",
    "            f\"![{img_name}]({img_name})\", f\"![{img_name}]({base64_str})\"\n",
    "        )\n",
    "    return markdown_str\n",
    "\n",
    "def get_combined_markdown(ocr_response: dict) -> str:\n",
    "    \"\"\"\n",
    "    Combine OCR text and images into a single markdown document.\n",
    "\n",
    "    Args:\n",
    "        ocr_response: Response from OCR processing containing text and images\n",
    "\n",
    "    Returns:\n",
    "        Combined markdown string with embedded images\n",
    "    \"\"\"\n",
    "    markdowns: list[str] = []\n",
    "    # Extract images from page\n",
    "    for page in ocr_response.pages:\n",
    "        image_data = {}\n",
    "        for img in page.images:\n",
    "            image_data[img.id] = img.image_base64\n",
    "        # Replace image placeholders with actual images\n",
    "        markdowns.append(replace_images_in_markdown(page.markdown, image_data))\n",
    "\n",
    "    return \"\\n\\n\".join(markdowns)"
   ]
  },
  {
   "cell_type": "code",
   "execution_count": 23,
   "metadata": {},
   "outputs": [
    {
     "data": {
      "text/plain": [
       "('pdf_collection/syllabus.pdf', 'pdf_collection/complex_graph.pdf')"
      ]
     },
     "execution_count": 23,
     "metadata": {},
     "output_type": "execute_result"
    }
   ],
   "source": [
    "dir_name = 'pdf_collection'\n",
    "syllabus_path = os.path.join(dir_name, os.listdir(dir_name)[3])\n",
    "complex_graph_path = os.path.join(dir_name, os.listdir(dir_name)[2])\n",
    "syllabus_path, complex_graph_path"
   ]
  },
  {
   "cell_type": "code",
   "execution_count": 17,
   "metadata": {},
   "outputs": [],
   "source": [
    "syllabus_ocr = ocr_response(syllabus_path)"
   ]
  },
  {
   "cell_type": "code",
   "execution_count": 22,
   "metadata": {},
   "outputs": [
    {
     "data": {
      "text/plain": [
       "\"The information contained on this page is designed to give students a representative example of material covered in the course. Any information related to course assignments, dates, or course materials is illustrative only.\\n\\n# (2) NYU <br> TANDON SCHOOL OF ENGINEERING \\n\\n## Course Syllabus\\n\\nComputer Science and Engineering\\nPrinciples of Database Systems\\n\\n## Course Information\\n\\n## Course Prerequisites\\n\\nGraduate student status.\\n\\n## Course Description\\n\\nThis course broadly introduces database systems, including the relational data model, query languages, database design, index and file structures, query processing and optimization, concurrency and recovery, transaction management and database design. Students acquire hands-on experience in working with database systems and in building web-accessible database applications.\\n\\n## Course Objectives\\n\\nThis course will provide students with the opportunity to:\\n\\n- Apply queries in relational algebra to retrieve data.\\n- Apply queries in SQL to create, read, update and delete data in a database.\\n- Apply the concepts of entity integrity constraint and referential integrity constraint (including definition of the concept of a foreign key).\\n- Describe the normal forms (1NF, 2NF, 3NF, BCNF, and 4NF) of a relation.\\n- Apply normalization to a relation to create a set of BCNF relations and denormalize a relational schema.\\n\\n# NYU <br> TANDON SCHOOL OF ENGINEERING \\n\\nCourse Syllabus - CS GY 6083 Principles of Database System\\n\\n- Describe functional dependency between two or more attributes that are a subset of a relation.\\n- Understand multi-valued dependency and identify examples in relational schemas.\\n- Sketch conceptual data models (including ER) to describe a database structure.\\n- Apply SQL to create a relational database schema based on conceptual and relational models.\\n- Apply stored procedures, functions, and triggers using a commercial relational DBMS.\\n- Describe concurrency control and how it is affected by isolation levels in the database.\\n- Analyze Current Research in Database Systems.\\n\\n\\n## Course Structure\\n\\nThis course is conducted entirely online, which means you do not have to be on campus to complete any portion of it. You will participate in the course using NYU Classes located at https://newclasses.nyu.edu Your final grade will be computed as a combination of the components shown below.\\n\\n- Quizzes: 30\\\\%\\n- Labs: $40 \\\\%$\\n- Project: $30 \\\\%$\\n\\n\\n## Weekly Structure\\n\\nWeek 1: Introduction to the Relational Model\\n\\n- Introduce class and overview of course topics.\\n\\nWeeks 2-4: SQL Language\\n\\n# NYU TANDON SCHOOL OF ENGINEERING \\n\\nCourse Syllabus - CS GY 6083 Principles of Database System\\n\\n- Introduction to SQL\\n- Intermediate SQL\\n- Advanced SQL\\n\\nWeek 5: Formal Relational Query Languages\\n\\n- Relational Algebra\\n- Tuple Relational Calculus\\n- Domain Relational Calculus\\n\\nWeek 6: Database Design: The Entity-Relationship Approach\\n\\n- ER Design\\n- Reduction to Relational Model\\n\\nWeek 7: Relational Database Design\\n\\n- Functional Dependency\\n- Multivalued Dependency\\n- Normal Forms.\\n\\nWeek 8: Application Design\\n\\n- Web Architectures\\n- Application Security\\n\\nWeek 9: Storage and File Structure\\n\\n- Physical Storage\\n- Record Organization\\n\\nWeek 10: Indexing and Hashing\\n\\n# NYU <br> TANDON SCHOOL OF ENGINEERING \\n\\nCourse Syllabus - CS GY 6083 Principles of Database System\\n\\n- Ordered Indices\\n- Hashed Indices\\n- Bitmap Indices\\n\\nWeeks 11-12: Query Processing \\\\& Optimization\\n\\n- Query Processing\\n- Query Optimization\\n\\nWeek 13: Transactions \\\\& Concurrency Control\\n\\n- ACID Properties\\n- Transaction Management\\n\\nWeek 14: Recovery System \\\\& Database System Architectures\\n\\n- Locks\\n- Deadlocks\\n- Snapshot Isolation\\n\\nWeek 15: Student Presentations\\n\\n- Presentations and reviews\\n\\n\\n## Learning Time Rubric\\n\\nPlease modify the below table to represent the breakdown of learning time in each week of your course.\\n\\n# NYU <br> TANDON SCHOOL OF ENGINEERING \\n\\nCourse Syllabus - CS GY 6083 Principles of Database System\\n\\n| Learning <br> Time <br> Element | Asynchronous* / <br> Synchronous** | Time on <br> Task for <br> Students <br> (weekly) | Notes |\\n| :--: | :--: | :--: | :-- |\\n| Reading <br> Assignments <br> / Recorded <br> Lecture | Asynchronous | 2.5 hours | Video format. <br> Expect quizzes <br> throughout the <br> module or <br> weekly chapter <br> readings |\\n| Weekly <br> Discussion <br> Board \\\\& Peer <br> Review | Asynchronous | 1.5 hours | Students are <br> expected to post <br> responses to <br> weekly topic <br> questions. See <br> Interaction <br> Policy. |\\n| Assessment <br> (Labs and <br> Programming <br> assignments) | Asynchronous | 2 hours | Students submit <br> their assignment <br> by [the end of <br> the week] |\\n| Reading <br> Assignment | Asynchronous | 2 hours | Reading <br> assigned <br> textbook <br> chapters and <br> journal articles. |\\n| Live webinars | Synchronous | 2 hours | Group <br> discussion in <br> class, live, <br> overly weekly <br> chapter |\\n\\n# NYU <br> TANDON SCHOOL OF ENGINEERING \\n\\nCourse Syllabus - CS GY 6083 Principles of Database System\\n\\n## Course Communication\\n\\n## Interaction Policy\\n\\nPlease follow the interaction guidelines stated below for this course.\\n\\n- I will be holding online virtual classroom sessions every week. This virtual classroom will be held via NYU Classes on Thursdays from 8am to 9am.\\n- The course will involve regular discussions via the Discussion Forums within NYU Classes and students are encouraged to participate.\\n- If you have a technical or course content related question, please send me an email. If I think that your question can benefit the class, I might post it on the discussion forum.\\n- If you have a question related to grading, please send an email to the TA and cc on the email thread. The TA will be responsible for examining your answers and providing a grade as per my guidelines.\\n- If any other questions need to be answered that are not addressed via email or the live classroom, I can hold virtual office hours on an appointment basis.\\n\\n\\n## Announcements\\n\\nAnnouncements will be posted on NYU Classes on a regular basis. You can locate all class announcements under the Announcements tab of our class. Be sure to check the class announcements regularly as they will contain important information about class assignments and other class matters.\\n\\n## Email\\n\\nYou are encouraged to post your questions about the course in the Forums discussions on NYU Classes. This is an open forum in which you and your classmates are encouraged to answer each other's questions. But, if you need to contact me directly, please email me. All\\n\\n# NYU <br> TANDON SCHOOL OF ENGINEERING \\n\\nCourse Syllabus - CS GY 6083 Principles of Database System\\nhomework, labs or programming assignments related questions must be researched first on own time, then posted on forums, then discussed with TAs during weekly reviews, and then can be forwarded to me. Typically, you can expect a response within 48 hours.\\n\\n## Readings\\n\\nAvi Silberschatz, Henry F. Korth,S. Sudarshan, Database System Concepts, Sixth Edition, McGraw Hill\\n\\nYou can access NYU's central library here: http://library.nyu.edu/\\nYou can access NYU Tandon's Bern Dibner Library here:\\nhttp://library.poly.edu/\\n\\nRECOMMENDED READINGS are online journal articles provided in each lecture You can access NYU's central library here: http://library.nyu.edu/\\n\\nYou can access NYU Tandon's Bern Dibner Library here:\\nhttp://library.poly.edu/\\n\\n## Assignments and Exams\\n\\n## Exams Administered and Proctored Online\\n\\nExams in this course are administered through NYU Classes. You are required to arrange an online proctor for your exams via ProctorU. More information on ProctorU and scheduling proctoring sessions can be found on Tandon Online's website.\\n\\n# NYU <br> TANDON SCHOOL OF ENGINEERING \\n\\nCourse Syllabus - CS GY 6083 Principles of Database System\\n\\n## Exams Administered On Paper and Proctored Remotely\\n\\nExams in this course are administered via paper and pencil. If you are not able to attend an exam session on-campus, you are required to secure in-person proctoring arrangements near your location. Tandon Online's website.\\n\\n## University Policies\\n\\n## Moses Center Statement of Disability\\n\\nAcademic accommodations are available for students with disabilities. Please contact the Moses Center for Students with Disabilities (212-998-4980 or mosescsd@nyu.edu) for further information. Students who are requesting academic accommodations are advised to reach out to the Moses Center as early as possible in the semester for assistance.\\n\\n## NYU Tandon School of Engineering Policies and Procedures on Academic Misconduct ${ }^{1}$\\n\\nA. Introduction: The School of Engineering encourages academic excellence in an environment that promotes honesty, integrity, and fairness, and students at the School of Engineering are expected to exhibit those qualities in their academic work. It is through the process of submitting their own work and receiving honest feedback on that work that students may progress academically. Any act of academic dishonesty is seen as an attack upon the School and will not be tolerated. Furthermore, those who breach the School's rules on academic integrity will be sanctioned under this Policy. Students are responsible for familiarizing themselves with the School's Policy on Academic Misconduct.\\nB. Definition: Academic dishonesty may include misrepresentation, deception, dishonesty, or any act of falsification committed by a student to influence a grade or other academic evaluation. Academic dishonesty also includes intentionally damaging the academic work of others or assisting other students in acts of dishonesty. Common\\n\\n[^0]\\n[^0]:    ${ }^{1}$ Excerpted from the Tandon School of Engineering Student Code of Conduct\\n\\n# NYU <br> TANDON SCHOOL OF ENGINEERING \\n\\nCourse Syllabus - CS GY 6083 Principles of Database System\\nexamples of academically dishonest behavior include, but are not limited to, the following:\\na. Cheating: intentionally using or attempting to use unauthorized notes, books, electronic media, or electronic communications in an exam; talking with fellow students or looking at another person's work during an exam; submitting work prepared in advance for an in-class examination; having someone take an exam for you or taking an exam for someone else; violating other rules governing the administration of examinations.\\nb. Fabrication: including but not limited to, falsifying experimental data and/or citations.\\nc. Plagiarism: intentionally or knowingly representing the words or ideas of another as one's own in any academic exercise; failure to attribute direct quotations, paraphrases, or borrowed facts or information.\\nd. Unauthorized collaboration: working together on work that was meant to be done individually.\\ne. Duplicating work: presenting for grading the same work for more than one project or in more than one class, unless express and prior permission has been received from the course instructor(s) or research adviser involved.\\nf. Forgery: altering any academic document, including, but not limited to, academic records, admissions materials, or medical excuses.\""
      ]
     },
     "execution_count": 22,
     "metadata": {},
     "output_type": "execute_result"
    }
   ],
   "source": [
    "syllabus_ocr_images = get_combined_markdown(syllabus_ocr)\n",
    "syllabus_ocr_images"
   ]
  },
  {
   "cell_type": "code",
   "execution_count": null,
   "metadata": {},
   "outputs": [],
   "source": []
  },
  {
   "cell_type": "code",
   "execution_count": 19,
   "metadata": {},
   "outputs": [
    {
     "data": {
      "text/markdown": [
       "The information contained on this page is designed to give students a representative example of material covered in the course. Any information related to course assignments, dates, or course materials is illustrative only.\n",
       "\n",
       "# (2) NYU <br> TANDON SCHOOL OF ENGINEERING \n",
       "\n",
       "## Course Syllabus\n",
       "\n",
       "Computer Science and Engineering\n",
       "Principles of Database Systems\n",
       "\n",
       "## Course Information\n",
       "\n",
       "## Course Prerequisites\n",
       "\n",
       "Graduate student status.\n",
       "\n",
       "## Course Description\n",
       "\n",
       "This course broadly introduces database systems, including the relational data model, query languages, database design, index and file structures, query processing and optimization, concurrency and recovery, transaction management and database design. Students acquire hands-on experience in working with database systems and in building web-accessible database applications.\n",
       "\n",
       "## Course Objectives\n",
       "\n",
       "This course will provide students with the opportunity to:\n",
       "\n",
       "- Apply queries in relational algebra to retrieve data.\n",
       "- Apply queries in SQL to create, read, update and delete data in a database.\n",
       "- Apply the concepts of entity integrity constraint and referential integrity constraint (including definition of the concept of a foreign key).\n",
       "- Describe the normal forms (1NF, 2NF, 3NF, BCNF, and 4NF) of a relation.\n",
       "- Apply normalization to a relation to create a set of BCNF relations and denormalize a relational schema.\n",
       "\n",
       "# NYU <br> TANDON SCHOOL OF ENGINEERING \n",
       "\n",
       "Course Syllabus - CS GY 6083 Principles of Database System\n",
       "\n",
       "- Describe functional dependency between two or more attributes that are a subset of a relation.\n",
       "- Understand multi-valued dependency and identify examples in relational schemas.\n",
       "- Sketch conceptual data models (including ER) to describe a database structure.\n",
       "- Apply SQL to create a relational database schema based on conceptual and relational models.\n",
       "- Apply stored procedures, functions, and triggers using a commercial relational DBMS.\n",
       "- Describe concurrency control and how it is affected by isolation levels in the database.\n",
       "- Analyze Current Research in Database Systems.\n",
       "\n",
       "\n",
       "## Course Structure\n",
       "\n",
       "This course is conducted entirely online, which means you do not have to be on campus to complete any portion of it. You will participate in the course using NYU Classes located at https://newclasses.nyu.edu Your final grade will be computed as a combination of the components shown below.\n",
       "\n",
       "- Quizzes: 30\\%\n",
       "- Labs: $40 \\%$\n",
       "- Project: $30 \\%$\n",
       "\n",
       "\n",
       "## Weekly Structure\n",
       "\n",
       "Week 1: Introduction to the Relational Model\n",
       "\n",
       "- Introduce class and overview of course topics.\n",
       "\n",
       "Weeks 2-4: SQL Language\n",
       "\n",
       "# NYU TANDON SCHOOL OF ENGINEERING \n",
       "\n",
       "Course Syllabus - CS GY 6083 Principles of Database System\n",
       "\n",
       "- Introduction to SQL\n",
       "- Intermediate SQL\n",
       "- Advanced SQL\n",
       "\n",
       "Week 5: Formal Relational Query Languages\n",
       "\n",
       "- Relational Algebra\n",
       "- Tuple Relational Calculus\n",
       "- Domain Relational Calculus\n",
       "\n",
       "Week 6: Database Design: The Entity-Relationship Approach\n",
       "\n",
       "- ER Design\n",
       "- Reduction to Relational Model\n",
       "\n",
       "Week 7: Relational Database Design\n",
       "\n",
       "- Functional Dependency\n",
       "- Multivalued Dependency\n",
       "- Normal Forms.\n",
       "\n",
       "Week 8: Application Design\n",
       "\n",
       "- Web Architectures\n",
       "- Application Security\n",
       "\n",
       "Week 9: Storage and File Structure\n",
       "\n",
       "- Physical Storage\n",
       "- Record Organization\n",
       "\n",
       "Week 10: Indexing and Hashing\n",
       "\n",
       "# NYU <br> TANDON SCHOOL OF ENGINEERING \n",
       "\n",
       "Course Syllabus - CS GY 6083 Principles of Database System\n",
       "\n",
       "- Ordered Indices\n",
       "- Hashed Indices\n",
       "- Bitmap Indices\n",
       "\n",
       "Weeks 11-12: Query Processing \\& Optimization\n",
       "\n",
       "- Query Processing\n",
       "- Query Optimization\n",
       "\n",
       "Week 13: Transactions \\& Concurrency Control\n",
       "\n",
       "- ACID Properties\n",
       "- Transaction Management\n",
       "\n",
       "Week 14: Recovery System \\& Database System Architectures\n",
       "\n",
       "- Locks\n",
       "- Deadlocks\n",
       "- Snapshot Isolation\n",
       "\n",
       "Week 15: Student Presentations\n",
       "\n",
       "- Presentations and reviews\n",
       "\n",
       "\n",
       "## Learning Time Rubric\n",
       "\n",
       "Please modify the below table to represent the breakdown of learning time in each week of your course.\n",
       "\n",
       "# NYU <br> TANDON SCHOOL OF ENGINEERING \n",
       "\n",
       "Course Syllabus - CS GY 6083 Principles of Database System\n",
       "\n",
       "| Learning <br> Time <br> Element | Asynchronous* / <br> Synchronous** | Time on <br> Task for <br> Students <br> (weekly) | Notes |\n",
       "| :--: | :--: | :--: | :-- |\n",
       "| Reading <br> Assignments <br> / Recorded <br> Lecture | Asynchronous | 2.5 hours | Video format. <br> Expect quizzes <br> throughout the <br> module or <br> weekly chapter <br> readings |\n",
       "| Weekly <br> Discussion <br> Board \\& Peer <br> Review | Asynchronous | 1.5 hours | Students are <br> expected to post <br> responses to <br> weekly topic <br> questions. See <br> Interaction <br> Policy. |\n",
       "| Assessment <br> (Labs and <br> Programming <br> assignments) | Asynchronous | 2 hours | Students submit <br> their assignment <br> by [the end of <br> the week] |\n",
       "| Reading <br> Assignment | Asynchronous | 2 hours | Reading <br> assigned <br> textbook <br> chapters and <br> journal articles. |\n",
       "| Live webinars | Synchronous | 2 hours | Group <br> discussion in <br> class, live, <br> overly weekly <br> chapter |\n",
       "\n",
       "# NYU <br> TANDON SCHOOL OF ENGINEERING \n",
       "\n",
       "Course Syllabus - CS GY 6083 Principles of Database System\n",
       "\n",
       "## Course Communication\n",
       "\n",
       "## Interaction Policy\n",
       "\n",
       "Please follow the interaction guidelines stated below for this course.\n",
       "\n",
       "- I will be holding online virtual classroom sessions every week. This virtual classroom will be held via NYU Classes on Thursdays from 8am to 9am.\n",
       "- The course will involve regular discussions via the Discussion Forums within NYU Classes and students are encouraged to participate.\n",
       "- If you have a technical or course content related question, please send me an email. If I think that your question can benefit the class, I might post it on the discussion forum.\n",
       "- If you have a question related to grading, please send an email to the TA and cc on the email thread. The TA will be responsible for examining your answers and providing a grade as per my guidelines.\n",
       "- If any other questions need to be answered that are not addressed via email or the live classroom, I can hold virtual office hours on an appointment basis.\n",
       "\n",
       "\n",
       "## Announcements\n",
       "\n",
       "Announcements will be posted on NYU Classes on a regular basis. You can locate all class announcements under the Announcements tab of our class. Be sure to check the class announcements regularly as they will contain important information about class assignments and other class matters.\n",
       "\n",
       "## Email\n",
       "\n",
       "You are encouraged to post your questions about the course in the Forums discussions on NYU Classes. This is an open forum in which you and your classmates are encouraged to answer each other's questions. But, if you need to contact me directly, please email me. All\n",
       "\n",
       "# NYU <br> TANDON SCHOOL OF ENGINEERING \n",
       "\n",
       "Course Syllabus - CS GY 6083 Principles of Database System\n",
       "homework, labs or programming assignments related questions must be researched first on own time, then posted on forums, then discussed with TAs during weekly reviews, and then can be forwarded to me. Typically, you can expect a response within 48 hours.\n",
       "\n",
       "## Readings\n",
       "\n",
       "Avi Silberschatz, Henry F. Korth,S. Sudarshan, Database System Concepts, Sixth Edition, McGraw Hill\n",
       "\n",
       "You can access NYU's central library here: http://library.nyu.edu/\n",
       "You can access NYU Tandon's Bern Dibner Library here:\n",
       "http://library.poly.edu/\n",
       "\n",
       "RECOMMENDED READINGS are online journal articles provided in each lecture You can access NYU's central library here: http://library.nyu.edu/\n",
       "\n",
       "You can access NYU Tandon's Bern Dibner Library here:\n",
       "http://library.poly.edu/\n",
       "\n",
       "## Assignments and Exams\n",
       "\n",
       "## Exams Administered and Proctored Online\n",
       "\n",
       "Exams in this course are administered through NYU Classes. You are required to arrange an online proctor for your exams via ProctorU. More information on ProctorU and scheduling proctoring sessions can be found on Tandon Online's website.\n",
       "\n",
       "# NYU <br> TANDON SCHOOL OF ENGINEERING \n",
       "\n",
       "Course Syllabus - CS GY 6083 Principles of Database System\n",
       "\n",
       "## Exams Administered On Paper and Proctored Remotely\n",
       "\n",
       "Exams in this course are administered via paper and pencil. If you are not able to attend an exam session on-campus, you are required to secure in-person proctoring arrangements near your location. Tandon Online's website.\n",
       "\n",
       "## University Policies\n",
       "\n",
       "## Moses Center Statement of Disability\n",
       "\n",
       "Academic accommodations are available for students with disabilities. Please contact the Moses Center for Students with Disabilities (212-998-4980 or mosescsd@nyu.edu) for further information. Students who are requesting academic accommodations are advised to reach out to the Moses Center as early as possible in the semester for assistance.\n",
       "\n",
       "## NYU Tandon School of Engineering Policies and Procedures on Academic Misconduct ${ }^{1}$\n",
       "\n",
       "A. Introduction: The School of Engineering encourages academic excellence in an environment that promotes honesty, integrity, and fairness, and students at the School of Engineering are expected to exhibit those qualities in their academic work. It is through the process of submitting their own work and receiving honest feedback on that work that students may progress academically. Any act of academic dishonesty is seen as an attack upon the School and will not be tolerated. Furthermore, those who breach the School's rules on academic integrity will be sanctioned under this Policy. Students are responsible for familiarizing themselves with the School's Policy on Academic Misconduct.\n",
       "B. Definition: Academic dishonesty may include misrepresentation, deception, dishonesty, or any act of falsification committed by a student to influence a grade or other academic evaluation. Academic dishonesty also includes intentionally damaging the academic work of others or assisting other students in acts of dishonesty. Common\n",
       "\n",
       "[^0]\n",
       "[^0]:    ${ }^{1}$ Excerpted from the Tandon School of Engineering Student Code of Conduct\n",
       "\n",
       "# NYU <br> TANDON SCHOOL OF ENGINEERING \n",
       "\n",
       "Course Syllabus - CS GY 6083 Principles of Database System\n",
       "examples of academically dishonest behavior include, but are not limited to, the following:\n",
       "a. Cheating: intentionally using or attempting to use unauthorized notes, books, electronic media, or electronic communications in an exam; talking with fellow students or looking at another person's work during an exam; submitting work prepared in advance for an in-class examination; having someone take an exam for you or taking an exam for someone else; violating other rules governing the administration of examinations.\n",
       "b. Fabrication: including but not limited to, falsifying experimental data and/or citations.\n",
       "c. Plagiarism: intentionally or knowingly representing the words or ideas of another as one's own in any academic exercise; failure to attribute direct quotations, paraphrases, or borrowed facts or information.\n",
       "d. Unauthorized collaboration: working together on work that was meant to be done individually.\n",
       "e. Duplicating work: presenting for grading the same work for more than one project or in more than one class, unless express and prior permission has been received from the course instructor(s) or research adviser involved.\n",
       "f. Forgery: altering any academic document, including, but not limited to, academic records, admissions materials, or medical excuses."
      ],
      "text/plain": [
       "<IPython.core.display.Markdown object>"
      ]
     },
     "metadata": {},
     "output_type": "display_data"
    }
   ],
   "source": [
    "display(Markdown(get_combined_markdown(syllabus_ocr)))"
   ]
  },
  {
   "cell_type": "code",
   "execution_count": null,
   "metadata": {},
   "outputs": [],
   "source": [
    "display"
   ]
  }
 ],
 "metadata": {
  "kernelspec": {
   "display_name": "base",
   "language": "python",
   "name": "python3"
  },
  "language_info": {
   "codemirror_mode": {
    "name": "ipython",
    "version": 3
   },
   "file_extension": ".py",
   "mimetype": "text/x-python",
   "name": "python",
   "nbconvert_exporter": "python",
   "pygments_lexer": "ipython3",
   "version": "3.10.13"
  }
 },
 "nbformat": 4,
 "nbformat_minor": 2
}
